{
 "cells": [
  {
   "cell_type": "code",
   "execution_count": 2,
   "id": "c4226c36",
   "metadata": {},
   "outputs": [
    {
     "name": "stderr",
     "output_type": "stream",
     "text": [
      "Downloading https://raw.githubusercontent.com/stanfordnlp/stanza-resources/main/resources_1.10.0.json: 426kB [00:00, 37.4MB/s]                    \n",
      "2025-04-12 12:54:39 INFO: Downloaded file to C:\\Users\\akshi\\stanza_resources\\resources.json\n",
      "2025-04-12 12:54:39 INFO: Downloading default packages for language: en (English) ...\n",
      "Downloading https://huggingface.co/stanfordnlp/stanza-en/resolve/v1.10.0/models/default.zip: 100%|██████████| 526M/526M [00:18<00:00, 28.0MB/s] \n",
      "2025-04-12 12:54:59 INFO: Downloaded file to C:\\Users\\akshi\\stanza_resources\\en\\default.zip\n",
      "2025-04-12 12:55:03 INFO: Finished downloading models and saved to C:\\Users\\akshi\\stanza_resources\n",
      "2025-04-12 12:55:03 INFO: Checking for updates to resources.json in case models have been updated.  Note: this behavior can be turned off with download_method=None or download_method=DownloadMethod.REUSE_RESOURCES\n",
      "Downloading https://raw.githubusercontent.com/stanfordnlp/stanza-resources/main/resources_1.10.0.json: 426kB [00:00, 16.5MB/s]                    \n",
      "2025-04-12 12:55:04 INFO: Downloaded file to C:\\Users\\akshi\\stanza_resources\\resources.json\n",
      "2025-04-12 12:55:05 INFO: Loading these models for language: en (English):\n",
      "============================================\n",
      "| Processor    | Package                   |\n",
      "--------------------------------------------\n",
      "| tokenize     | combined                  |\n",
      "| mwt          | combined                  |\n",
      "| pos          | combined_charlm           |\n",
      "| lemma        | combined_nocharlm         |\n",
      "| constituency | ptb3-revised_charlm       |\n",
      "| depparse     | combined_charlm           |\n",
      "| sentiment    | sstplus_charlm            |\n",
      "| ner          | ontonotes-ww-multi_charlm |\n",
      "============================================\n",
      "\n",
      "2025-04-12 12:55:05 INFO: Using device: cpu\n",
      "2025-04-12 12:55:05 INFO: Loading: tokenize\n",
      "2025-04-12 12:55:07 INFO: Loading: mwt\n",
      "2025-04-12 12:55:07 INFO: Loading: pos\n",
      "2025-04-12 12:55:08 INFO: Loading: lemma\n",
      "2025-04-12 12:55:09 INFO: Loading: constituency\n",
      "2025-04-12 12:55:09 INFO: Loading: depparse\n",
      "2025-04-12 12:55:09 INFO: Loading: sentiment\n",
      "2025-04-12 12:55:10 INFO: Loading: ner\n",
      "2025-04-12 12:55:12 INFO: Done loading processors!\n"
     ]
    },
    {
     "name": "stdout",
     "output_type": "stream",
     "text": [
      "Barack\tBarack\tPROPN\n",
      "Obama\tObama\tPROPN\n",
      "was\tbe\tAUX\n",
      "born\tbear\tVERB\n",
      "in\tin\tADP\n",
      "Hawaii\tHawaii\tPROPN\n",
      ".\t.\tPUNCT\n"
     ]
    }
   ],
   "source": [
    "import stanza\n",
    "\n",
    "stanza.download('en')\n",
    "nlp = stanza.Pipeline('en')\n",
    "doc = nlp(\"Barack Obama was born in Hawaii.\")\n",
    "for sentence in doc.sentences:\n",
    "    for word in sentence.words:\n",
    "        print(f'{word.text}\\t{word.lemma}\\t{word.pos}')\n"
   ]
  }
 ],
 "metadata": {
  "kernelspec": {
   "display_name": "venv",
   "language": "python",
   "name": "python3"
  },
  "language_info": {
   "codemirror_mode": {
    "name": "ipython",
    "version": 3
   },
   "file_extension": ".py",
   "mimetype": "text/x-python",
   "name": "python",
   "nbconvert_exporter": "python",
   "pygments_lexer": "ipython3",
   "version": "3.13.1"
  }
 },
 "nbformat": 4,
 "nbformat_minor": 5
}
